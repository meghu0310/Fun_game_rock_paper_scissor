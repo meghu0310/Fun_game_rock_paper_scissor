{
 "cells": [
  {
   "cell_type": "markdown",
   "id": "e8620281",
   "metadata": {},
   "source": [
    "# **Random fun game creation using Python**\n",
    "**Rock_Paper_Scissor**"
   ]
  },
  {
   "cell_type": "markdown",
   "id": "cf97262c",
   "metadata": {},
   "source": [
    "### **Information on which software I used for this :**\n",
    "I did this fun game using Juypter Notebook.\n",
    "\n",
    "The server is running on Python(Python 3.8.11),Anaconda Distribution.\n",
    "You can try this fun game on any online or offline platform of python."
   ]
  },
  {
   "cell_type": "markdown",
   "id": "ccfa68c4",
   "metadata": {},
   "source": [
    "### **Python Libraries :**\n",
    "The basic python library used here are:-\n",
    "\n",
    "**-random** :Python Random module is an **in-built module of Python** which is used to generate random numbers.Random module has a set of methods: like random(),shuffle(),randrange(),randint() and many more."
   ]
  },
  {
   "cell_type": "markdown",
   "id": "b6957768",
   "metadata": {},
   "source": [
    "#### **Importing required library**"
   ]
  },
  {
   "cell_type": "code",
   "execution_count": 3,
   "id": "7a2d1bef",
   "metadata": {},
   "outputs": [],
   "source": [
    "import random"
   ]
  },
  {
   "cell_type": "code",
   "execution_count": 12,
   "id": "22e5318f",
   "metadata": {},
   "outputs": [
    {
     "name": "stdout",
     "output_type": "stream",
     "text": [
      "Select Rock, Paper, or Scissor :rock\n",
      "Member_2 selected:  rock\n",
      "Tie\n"
     ]
    }
   ],
   "source": [
    "member_1 = input(\"Select Rock, Paper, or Scissor :\").lower()\n",
    "member_2 = random.choice([\"Rock\", \"Paper\", \"Scissor\"]).lower()\n",
    "print(\"Member_2 selected: \", member_2)\n",
    "if member_1 == \"rock\" and member_2 == \"paper\":\n",
    "    print(\"Member_2 Won\")\n",
    "elif member_1 == \"paper\" and member_2 == \"scissor\":\n",
    "    print(\"Member_2 Won\")\n",
    "elif member_1 == \"scissor\" and member_2 == \"rock\":\n",
    "    print(\"Member_2 Won\")\n",
    "elif member_1 == member_2:\n",
    "    print(\"Tie\")\n",
    "else:\n",
    "    print(\"1st Member Won\")"
   ]
  },
  {
   "cell_type": "markdown",
   "id": "f782587a",
   "metadata": {},
   "source": [
    "### **References**"
   ]
  },
  {
   "cell_type": "markdown",
   "id": "be9906ab",
   "metadata": {},
   "source": [
    "https://en.wikipedia.org/wiki/Python_(programming_language)\n",
    "\n",
    "https://www.w3schools.com/python/module_random.asp\n",
    "\n",
    "**For Anaconda Distribution platform** : https://www.anaconda.com/products/individual\n"
   ]
  }
 ],
 "metadata": {
  "kernelspec": {
   "display_name": "Python 3 (ipykernel)",
   "language": "python",
   "name": "python3"
  },
  "language_info": {
   "codemirror_mode": {
    "name": "ipython",
    "version": 3
   },
   "file_extension": ".py",
   "mimetype": "text/x-python",
   "name": "python",
   "nbconvert_exporter": "python",
   "pygments_lexer": "ipython3",
   "version": "3.8.11"
  }
 },
 "nbformat": 4,
 "nbformat_minor": 5
}
